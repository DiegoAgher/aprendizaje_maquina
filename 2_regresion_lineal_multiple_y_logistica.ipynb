{
 "cells": [
  {
   "cell_type": "markdown",
   "metadata": {},
   "source": [
    "# Regresion Lineal Múltiple\n",
    "Para continuar con un modelo lineal, presentaré la regresión lineal múltiple.\n",
    "Este modelo es similar al anterior pero en vez de modelar la variable dependiente $y$ con una sola variable independiente $x$, usaremos mas de una.\n",
    "\n",
    "Matemáticamente, tendremos la siguiente expresion $\\hat{y}_i = (\\sum_i x_i \\beta_i) + \\beta_0$.\n",
    "Con dos variables, esto corresponde a un plano: $\\hat{y}_i = x_1 \\beta_1 + x_2 \\beta_2 + \\beta_0$.\n",
    "\n",
    "La idea detrás de este modelo es la misma, podemos estimar una variable a través de la ponderación lineal de otras. El criterio para evaluar al modelo es el mismo que el anterior, la pérdida cuadrática media: $\\frac{1}{m} \\sum_i (y_i - \\hat{y}_i)^2$.\n",
    "\n",
    "Así mismo, buscamos optimizar el costo a través del calculo del gradiente de la función.\n",
    "Veamos un ejemplo de estimación de precios de casa, para obtener los datos usen el siguiente [link](https://www.kaggle.com/c/house-prices-advanced-regression-techniques/data) o clonen el repo donde agregué una carpeta de datos.\n",
    "\n",
    "Para hacer uso de algoritmos de aprendizaje de maquina, hacemos referencia a [scikit-learn](https://scikit-learn.org/stable/index.html)"
   ]
  },
  {
   "cell_type": "code",
   "execution_count": 1,
   "metadata": {},
   "outputs": [],
   "source": [
    "import pandas as pd\n",
    "import numpy as np\n",
    "\n",
    "import warnings\n",
    "warnings.filterwarnings('ignore')"
   ]
  },
  {
   "cell_type": "code",
   "execution_count": 2,
   "metadata": {},
   "outputs": [],
   "source": [
    "entrenamiento = pd.read_csv('data/house_train.csv')"
   ]
  },
  {
   "cell_type": "code",
   "execution_count": 3,
   "metadata": {},
   "outputs": [
    {
     "name": "stdout",
     "output_type": "stream",
     "text": [
      "(1460, 81)\n"
     ]
    },
    {
     "data": {
      "text/html": [
       "<div>\n",
       "<style scoped>\n",
       "    .dataframe tbody tr th:only-of-type {\n",
       "        vertical-align: middle;\n",
       "    }\n",
       "\n",
       "    .dataframe tbody tr th {\n",
       "        vertical-align: top;\n",
       "    }\n",
       "\n",
       "    .dataframe thead th {\n",
       "        text-align: right;\n",
       "    }\n",
       "</style>\n",
       "<table border=\"1\" class=\"dataframe\">\n",
       "  <thead>\n",
       "    <tr style=\"text-align: right;\">\n",
       "      <th></th>\n",
       "      <th>Id</th>\n",
       "      <th>MSSubClass</th>\n",
       "      <th>MSZoning</th>\n",
       "      <th>LotFrontage</th>\n",
       "      <th>LotArea</th>\n",
       "      <th>Street</th>\n",
       "      <th>Alley</th>\n",
       "      <th>LotShape</th>\n",
       "      <th>LandContour</th>\n",
       "      <th>Utilities</th>\n",
       "      <th>...</th>\n",
       "      <th>PoolArea</th>\n",
       "      <th>PoolQC</th>\n",
       "      <th>Fence</th>\n",
       "      <th>MiscFeature</th>\n",
       "      <th>MiscVal</th>\n",
       "      <th>MoSold</th>\n",
       "      <th>YrSold</th>\n",
       "      <th>SaleType</th>\n",
       "      <th>SaleCondition</th>\n",
       "      <th>SalePrice</th>\n",
       "    </tr>\n",
       "  </thead>\n",
       "  <tbody>\n",
       "    <tr>\n",
       "      <th>0</th>\n",
       "      <td>1</td>\n",
       "      <td>60</td>\n",
       "      <td>RL</td>\n",
       "      <td>65.0</td>\n",
       "      <td>8450</td>\n",
       "      <td>Pave</td>\n",
       "      <td>NaN</td>\n",
       "      <td>Reg</td>\n",
       "      <td>Lvl</td>\n",
       "      <td>AllPub</td>\n",
       "      <td>...</td>\n",
       "      <td>0</td>\n",
       "      <td>NaN</td>\n",
       "      <td>NaN</td>\n",
       "      <td>NaN</td>\n",
       "      <td>0</td>\n",
       "      <td>2</td>\n",
       "      <td>2008</td>\n",
       "      <td>WD</td>\n",
       "      <td>Normal</td>\n",
       "      <td>208500</td>\n",
       "    </tr>\n",
       "    <tr>\n",
       "      <th>1</th>\n",
       "      <td>2</td>\n",
       "      <td>20</td>\n",
       "      <td>RL</td>\n",
       "      <td>80.0</td>\n",
       "      <td>9600</td>\n",
       "      <td>Pave</td>\n",
       "      <td>NaN</td>\n",
       "      <td>Reg</td>\n",
       "      <td>Lvl</td>\n",
       "      <td>AllPub</td>\n",
       "      <td>...</td>\n",
       "      <td>0</td>\n",
       "      <td>NaN</td>\n",
       "      <td>NaN</td>\n",
       "      <td>NaN</td>\n",
       "      <td>0</td>\n",
       "      <td>5</td>\n",
       "      <td>2007</td>\n",
       "      <td>WD</td>\n",
       "      <td>Normal</td>\n",
       "      <td>181500</td>\n",
       "    </tr>\n",
       "    <tr>\n",
       "      <th>2</th>\n",
       "      <td>3</td>\n",
       "      <td>60</td>\n",
       "      <td>RL</td>\n",
       "      <td>68.0</td>\n",
       "      <td>11250</td>\n",
       "      <td>Pave</td>\n",
       "      <td>NaN</td>\n",
       "      <td>IR1</td>\n",
       "      <td>Lvl</td>\n",
       "      <td>AllPub</td>\n",
       "      <td>...</td>\n",
       "      <td>0</td>\n",
       "      <td>NaN</td>\n",
       "      <td>NaN</td>\n",
       "      <td>NaN</td>\n",
       "      <td>0</td>\n",
       "      <td>9</td>\n",
       "      <td>2008</td>\n",
       "      <td>WD</td>\n",
       "      <td>Normal</td>\n",
       "      <td>223500</td>\n",
       "    </tr>\n",
       "  </tbody>\n",
       "</table>\n",
       "<p>3 rows × 81 columns</p>\n",
       "</div>"
      ],
      "text/plain": [
       "   Id  MSSubClass MSZoning  LotFrontage  LotArea Street Alley LotShape  \\\n",
       "0   1          60       RL         65.0     8450   Pave   NaN      Reg   \n",
       "1   2          20       RL         80.0     9600   Pave   NaN      Reg   \n",
       "2   3          60       RL         68.0    11250   Pave   NaN      IR1   \n",
       "\n",
       "  LandContour Utilities  ... PoolArea PoolQC Fence MiscFeature MiscVal MoSold  \\\n",
       "0         Lvl    AllPub  ...        0    NaN   NaN         NaN       0      2   \n",
       "1         Lvl    AllPub  ...        0    NaN   NaN         NaN       0      5   \n",
       "2         Lvl    AllPub  ...        0    NaN   NaN         NaN       0      9   \n",
       "\n",
       "  YrSold  SaleType  SaleCondition  SalePrice  \n",
       "0   2008        WD         Normal     208500  \n",
       "1   2007        WD         Normal     181500  \n",
       "2   2008        WD         Normal     223500  \n",
       "\n",
       "[3 rows x 81 columns]"
      ]
     },
     "execution_count": 3,
     "metadata": {},
     "output_type": "execute_result"
    }
   ],
   "source": [
    "print(entrenamiento.shape)\n",
    "entrenamiento.head(3)"
   ]
  },
  {
   "cell_type": "code",
   "execution_count": 4,
   "metadata": {
    "scrolled": true
   },
   "outputs": [
    {
     "name": "stdout",
     "output_type": "stream",
     "text": [
      "<class 'pandas.core.frame.DataFrame'>\n",
      "RangeIndex: 1460 entries, 0 to 1459\n",
      "Data columns (total 81 columns):\n",
      "Id               1460 non-null int64\n",
      "MSSubClass       1460 non-null int64\n",
      "MSZoning         1460 non-null object\n",
      "LotFrontage      1201 non-null float64\n",
      "LotArea          1460 non-null int64\n",
      "Street           1460 non-null object\n",
      "Alley            91 non-null object\n",
      "LotShape         1460 non-null object\n",
      "LandContour      1460 non-null object\n",
      "Utilities        1460 non-null object\n",
      "LotConfig        1460 non-null object\n",
      "LandSlope        1460 non-null object\n",
      "Neighborhood     1460 non-null object\n",
      "Condition1       1460 non-null object\n",
      "Condition2       1460 non-null object\n",
      "BldgType         1460 non-null object\n",
      "HouseStyle       1460 non-null object\n",
      "OverallQual      1460 non-null int64\n",
      "OverallCond      1460 non-null int64\n",
      "YearBuilt        1460 non-null int64\n",
      "YearRemodAdd     1460 non-null int64\n",
      "RoofStyle        1460 non-null object\n",
      "RoofMatl         1460 non-null object\n",
      "Exterior1st      1460 non-null object\n",
      "Exterior2nd      1460 non-null object\n",
      "MasVnrType       1452 non-null object\n",
      "MasVnrArea       1452 non-null float64\n",
      "ExterQual        1460 non-null object\n",
      "ExterCond        1460 non-null object\n",
      "Foundation       1460 non-null object\n",
      "BsmtQual         1423 non-null object\n",
      "BsmtCond         1423 non-null object\n",
      "BsmtExposure     1422 non-null object\n",
      "BsmtFinType1     1423 non-null object\n",
      "BsmtFinSF1       1460 non-null int64\n",
      "BsmtFinType2     1422 non-null object\n",
      "BsmtFinSF2       1460 non-null int64\n",
      "BsmtUnfSF        1460 non-null int64\n",
      "TotalBsmtSF      1460 non-null int64\n",
      "Heating          1460 non-null object\n",
      "HeatingQC        1460 non-null object\n",
      "CentralAir       1460 non-null object\n",
      "Electrical       1459 non-null object\n",
      "1stFlrSF         1460 non-null int64\n",
      "2ndFlrSF         1460 non-null int64\n",
      "LowQualFinSF     1460 non-null int64\n",
      "GrLivArea        1460 non-null int64\n",
      "BsmtFullBath     1460 non-null int64\n",
      "BsmtHalfBath     1460 non-null int64\n",
      "FullBath         1460 non-null int64\n",
      "HalfBath         1460 non-null int64\n",
      "BedroomAbvGr     1460 non-null int64\n",
      "KitchenAbvGr     1460 non-null int64\n",
      "KitchenQual      1460 non-null object\n",
      "TotRmsAbvGrd     1460 non-null int64\n",
      "Functional       1460 non-null object\n",
      "Fireplaces       1460 non-null int64\n",
      "FireplaceQu      770 non-null object\n",
      "GarageType       1379 non-null object\n",
      "GarageYrBlt      1379 non-null float64\n",
      "GarageFinish     1379 non-null object\n",
      "GarageCars       1460 non-null int64\n",
      "GarageArea       1460 non-null int64\n",
      "GarageQual       1379 non-null object\n",
      "GarageCond       1379 non-null object\n",
      "PavedDrive       1460 non-null object\n",
      "WoodDeckSF       1460 non-null int64\n",
      "OpenPorchSF      1460 non-null int64\n",
      "EnclosedPorch    1460 non-null int64\n",
      "3SsnPorch        1460 non-null int64\n",
      "ScreenPorch      1460 non-null int64\n",
      "PoolArea         1460 non-null int64\n",
      "PoolQC           7 non-null object\n",
      "Fence            281 non-null object\n",
      "MiscFeature      54 non-null object\n",
      "MiscVal          1460 non-null int64\n",
      "MoSold           1460 non-null int64\n",
      "YrSold           1460 non-null int64\n",
      "SaleType         1460 non-null object\n",
      "SaleCondition    1460 non-null object\n",
      "SalePrice        1460 non-null int64\n",
      "dtypes: float64(3), int64(35), object(43)\n",
      "memory usage: 924.0+ KB\n"
     ]
    }
   ],
   "source": [
    "entrenamiento.info()"
   ]
  },
  {
   "cell_type": "markdown",
   "metadata": {},
   "source": [
    "Consideremos 4 variables que describen una casa y suponemos que su precio se puede modelar de manera correcta con estas cuatro. Podemos representar ese conjunto de la siguiente manera:\n",
    "\n",
    "X = [x1, x2, x3, x4]\n",
    "$X \\in \\R^{m} \\times \\R^{4}$ \n",
    "donde $m$ es el número de observaciones\n"
   ]
  },
  {
   "cell_type": "code",
   "execution_count": null,
   "metadata": {},
   "outputs": [],
   "source": []
  },
  {
   "cell_type": "code",
   "execution_count": 5,
   "metadata": {},
   "outputs": [
    {
     "name": "stdout",
     "output_type": "stream",
     "text": [
      "((1460, 4), (1460,))\n"
     ]
    }
   ],
   "source": [
    "var_objetivo = 'SalePrice'\n",
    "variables = [\"MSSubClass\", \"LotShape\", \"YearBuilt\", \"YrSold\"]\n",
    "X = entrenamiento[variables]\n",
    "y = entrenamiento[var_objetivo]\n",
    "print(X.shape, y.shape)"
   ]
  },
  {
   "cell_type": "markdown",
   "metadata": {},
   "source": [
    "Las siguientes clases y funciones son de la librería `sklearn`.\n",
    "Para instalarlo usa `pip install sklearn`"
   ]
  },
  {
   "cell_type": "code",
   "execution_count": 6,
   "metadata": {},
   "outputs": [],
   "source": [
    "from sklearn.linear_model import LinearRegression #regresión lineal múltiple\n",
    "from sklearn.metrics import mean_squared_error, r2_score #metricas para medir error\n",
    "from sklearn.preprocessing import OneHotEncoder #utileria para procesar variables categoricas"
   ]
  },
  {
   "cell_type": "markdown",
   "metadata": {},
   "source": [
    "La siguiente transformación es relevente e importante de comprender.\n",
    "Consideremos la variable `LotShape`, esta es una variable categórica.\n",
    "Es decir, sus valores representan, como su nombre lo dice, categorías.\n",
    "Más aun, estas categorías no son ordenadas.\n",
    "Es decir, si una observación tiene `LotShape=1` y otra tiene `LotShape=2`, esto no significa que `LotShape=1 < LotShape=2`.\n",
    "Por lo tanto se hace una transformación en la cual se crean variables \"dummy\" para representar las distintas categorías."
   ]
  },
  {
   "cell_type": "code",
   "execution_count": 7,
   "metadata": {
    "scrolled": true
   },
   "outputs": [
    {
     "data": {
      "text/plain": [
       "OneHotEncoder(categorical_features=None, categories=None,\n",
       "       dtype=<type 'numpy.float64'>, handle_unknown='error', n_values=None,\n",
       "       sparse=True)"
      ]
     },
     "execution_count": 7,
     "metadata": {},
     "output_type": "execute_result"
    }
   ],
   "source": [
    "enc_lotshape = OneHotEncoder() #instanciamos el transformador\n",
    "enc_lotshape.fit(X['LotShape'].values.reshape(-1,1)) # y ajustamos los datos"
   ]
  },
  {
   "cell_type": "code",
   "execution_count": 8,
   "metadata": {},
   "outputs": [
    {
     "data": {
      "text/html": [
       "<div>\n",
       "<style scoped>\n",
       "    .dataframe tbody tr th:only-of-type {\n",
       "        vertical-align: middle;\n",
       "    }\n",
       "\n",
       "    .dataframe tbody tr th {\n",
       "        vertical-align: top;\n",
       "    }\n",
       "\n",
       "    .dataframe thead th {\n",
       "        text-align: right;\n",
       "    }\n",
       "</style>\n",
       "<table border=\"1\" class=\"dataframe\">\n",
       "  <thead>\n",
       "    <tr style=\"text-align: right;\">\n",
       "      <th></th>\n",
       "      <th>MSSubClass</th>\n",
       "      <th>YearBuilt</th>\n",
       "      <th>YrSold</th>\n",
       "      <th>var0</th>\n",
       "      <th>var1</th>\n",
       "      <th>var2</th>\n",
       "      <th>var3</th>\n",
       "    </tr>\n",
       "  </thead>\n",
       "  <tbody>\n",
       "    <tr>\n",
       "      <th>0</th>\n",
       "      <td>60</td>\n",
       "      <td>2003</td>\n",
       "      <td>2008</td>\n",
       "      <td>0.0</td>\n",
       "      <td>0.0</td>\n",
       "      <td>0.0</td>\n",
       "      <td>1.0</td>\n",
       "    </tr>\n",
       "    <tr>\n",
       "      <th>1</th>\n",
       "      <td>20</td>\n",
       "      <td>1976</td>\n",
       "      <td>2007</td>\n",
       "      <td>0.0</td>\n",
       "      <td>0.0</td>\n",
       "      <td>0.0</td>\n",
       "      <td>1.0</td>\n",
       "    </tr>\n",
       "    <tr>\n",
       "      <th>2</th>\n",
       "      <td>60</td>\n",
       "      <td>2001</td>\n",
       "      <td>2008</td>\n",
       "      <td>1.0</td>\n",
       "      <td>0.0</td>\n",
       "      <td>0.0</td>\n",
       "      <td>0.0</td>\n",
       "    </tr>\n",
       "  </tbody>\n",
       "</table>\n",
       "</div>"
      ],
      "text/plain": [
       "   MSSubClass  YearBuilt  YrSold  var0  var1  var2  var3\n",
       "0          60       2003    2008   0.0   0.0   0.0   1.0\n",
       "1          20       1976    2007   0.0   0.0   0.0   1.0\n",
       "2          60       2001    2008   1.0   0.0   0.0   0.0"
      ]
     },
     "execution_count": 8,
     "metadata": {},
     "output_type": "execute_result"
    }
   ],
   "source": [
    "# con el siguiente código incluimos las variables dummies pero no lo original\n",
    "transformed = enc_lotshape.transform(entrenamiento['LotShape'].values.reshape(-1,1)).toarray()\n",
    "transformed_df = pd.DataFrame(transformed, columns=['var{}'.format(i) for i in range(4)]) # instanciar dataframe con un numpy array\n",
    "X = X[[variable for variable in variables if variable != 'LotShape']]\n",
    "X = pd.concat([X, transformed_df], axis=1)\n",
    "X.head(3)"
   ]
  },
  {
   "cell_type": "markdown",
   "metadata": {},
   "source": [
    "## Conjunto de prueba y de entrenamiento\n",
    "En esta ocasión también abordaremos dos conceptos importantes, conjunto de entrenamiento y conjunto de prueba.\n",
    "Usualemente se separan los datos en dos conjuntos para asegurar que el modelo no sobreajusta los datos de entrenamiento.\n",
    "\n",
    "Es decir, se busca una generalización del fenomeno y no una descripción del conjunto de entrenamiento. \n",
    "Si el modelo tiene buen desempeño en distintas métricas en el conjunto de entrenamiento pero no en el conjunto de prueba, entonces\n",
    "este no tiene una buena generalización de los datos."
   ]
  },
  {
   "cell_type": "code",
   "execution_count": 9,
   "metadata": {},
   "outputs": [
    {
     "name": "stdout",
     "output_type": "stream",
     "text": [
      "((1241, 7), (1241,), (219, 7), (219,))\n"
     ]
    }
   ],
   "source": [
    "from sklearn.model_selection import train_test_split\n",
    "entrenamiento_x, prueba_x, entrenamiento_y, prueba_y = train_test_split(X, entrenamiento[var_objetivo], test_size=0.15, random_state=42)\n",
    "print(entrenamiento_x.shape, entrenamiento_y.shape, prueba_x.shape, prueba_y.shape)"
   ]
  },
  {
   "cell_type": "code",
   "execution_count": 10,
   "metadata": {},
   "outputs": [
    {
     "data": {
      "text/plain": [
       "LinearRegression(copy_X=True, fit_intercept=True, n_jobs=None,\n",
       "         normalize=False)"
      ]
     },
     "execution_count": 10,
     "metadata": {},
     "output_type": "execute_result"
    }
   ],
   "source": [
    "# Listos para entrenar el modelo, primero instanciamos el modelo y luego ajustamos los datos\n",
    "modelo = LinearRegression()\n",
    "modelo.fit(entrenamiento_x, entrenamiento_y)  # entrenamiento"
   ]
  },
  {
   "cell_type": "code",
   "execution_count": 11,
   "metadata": {},
   "outputs": [
    {
     "name": "stdout",
     "output_type": "stream",
     "text": [
      "<type 'numpy.ndarray'>\n"
     ]
    },
    {
     "data": {
      "text/html": [
       "<div>\n",
       "<style scoped>\n",
       "    .dataframe tbody tr th:only-of-type {\n",
       "        vertical-align: middle;\n",
       "    }\n",
       "\n",
       "    .dataframe tbody tr th {\n",
       "        vertical-align: top;\n",
       "    }\n",
       "\n",
       "    .dataframe thead th {\n",
       "        text-align: right;\n",
       "    }\n",
       "</style>\n",
       "<table border=\"1\" class=\"dataframe\">\n",
       "  <thead>\n",
       "    <tr style=\"text-align: right;\">\n",
       "      <th></th>\n",
       "      <th>y_hat</th>\n",
       "      <th>error_absoluto</th>\n",
       "      <th>error_cuadratico</th>\n",
       "      <th>over_under</th>\n",
       "    </tr>\n",
       "  </thead>\n",
       "  <tbody>\n",
       "    <tr>\n",
       "      <th>count</th>\n",
       "      <td>1241.000000</td>\n",
       "      <td>1241.000000</td>\n",
       "      <td>1.241000e+03</td>\n",
       "      <td>1241.000000</td>\n",
       "    </tr>\n",
       "    <tr>\n",
       "      <th>mean</th>\n",
       "      <td>181017.845286</td>\n",
       "      <td>45465.297786</td>\n",
       "      <td>4.163552e+09</td>\n",
       "      <td>-0.240935</td>\n",
       "    </tr>\n",
       "    <tr>\n",
       "      <th>std</th>\n",
       "      <td>42719.072122</td>\n",
       "      <td>45805.562337</td>\n",
       "      <td>1.304052e+10</td>\n",
       "      <td>0.970933</td>\n",
       "    </tr>\n",
       "    <tr>\n",
       "      <th>min</th>\n",
       "      <td>44374.474334</td>\n",
       "      <td>90.494585</td>\n",
       "      <td>8.189270e+03</td>\n",
       "      <td>-1.000000</td>\n",
       "    </tr>\n",
       "    <tr>\n",
       "      <th>25%</th>\n",
       "      <td>155312.282443</td>\n",
       "      <td>16050.304793</td>\n",
       "      <td>2.576123e+08</td>\n",
       "      <td>-1.000000</td>\n",
       "    </tr>\n",
       "    <tr>\n",
       "      <th>50%</th>\n",
       "      <td>184976.514554</td>\n",
       "      <td>35875.543852</td>\n",
       "      <td>1.287055e+09</td>\n",
       "      <td>-1.000000</td>\n",
       "    </tr>\n",
       "    <tr>\n",
       "      <th>75%</th>\n",
       "      <td>217373.539974</td>\n",
       "      <td>58793.412413</td>\n",
       "      <td>3.456665e+09</td>\n",
       "      <td>1.000000</td>\n",
       "    </tr>\n",
       "    <tr>\n",
       "      <th>max</th>\n",
       "      <td>278928.984253</td>\n",
       "      <td>523362.127833</td>\n",
       "      <td>2.739079e+11</td>\n",
       "      <td>1.000000</td>\n",
       "    </tr>\n",
       "  </tbody>\n",
       "</table>\n",
       "</div>"
      ],
      "text/plain": [
       "               y_hat  error_absoluto  error_cuadratico   over_under\n",
       "count    1241.000000     1241.000000      1.241000e+03  1241.000000\n",
       "mean   181017.845286    45465.297786      4.163552e+09    -0.240935\n",
       "std     42719.072122    45805.562337      1.304052e+10     0.970933\n",
       "min     44374.474334       90.494585      8.189270e+03    -1.000000\n",
       "25%    155312.282443    16050.304793      2.576123e+08    -1.000000\n",
       "50%    184976.514554    35875.543852      1.287055e+09    -1.000000\n",
       "75%    217373.539974    58793.412413      3.456665e+09     1.000000\n",
       "max    278928.984253   523362.127833      2.739079e+11     1.000000"
      ]
     },
     "execution_count": 11,
     "metadata": {},
     "output_type": "execute_result"
    }
   ],
   "source": [
    "y_hat = modelo.predict(entrenamiento_x) # estimacion o prediciónn\n",
    "print(type(y_hat))\n",
    "entrenamiento_x['y_hat'] = y_hat # crear columna en dataframe de prediccion\n",
    "entrenamiento_x['error_absoluto'] = np.abs(entrenamiento_y - entrenamiento_x['y_hat'])\n",
    "entrenamiento_x['error_cuadratico'] = np.power(entrenamiento_y - entrenamiento_x['y_hat'], 2)\n",
    "entrenamiento_x['over_under'] = (entrenamiento_y - entrenamiento_x['y_hat'])\n",
    "entrenamiento_x['over_under'] = entrenamiento_x['over_under'].apply(lambda x: 1 if x >= 0 else -1)\n",
    "entrenamiento_x[['y_hat', 'error_absoluto','error_cuadratico', 'over_under']].describe()"
   ]
  },
  {
   "cell_type": "markdown",
   "metadata": {
    "scrolled": true
   },
   "source": [
    "Vemos que este modelo, en promedio, sobreestima el valor de la propiedad a comparación del precio original."
   ]
  },
  {
   "cell_type": "code",
   "execution_count": null,
   "metadata": {},
   "outputs": [],
   "source": []
  },
  {
   "cell_type": "code",
   "execution_count": 12,
   "metadata": {},
   "outputs": [
    {
     "data": {
      "text/html": [
       "<div>\n",
       "<style scoped>\n",
       "    .dataframe tbody tr th:only-of-type {\n",
       "        vertical-align: middle;\n",
       "    }\n",
       "\n",
       "    .dataframe tbody tr th {\n",
       "        vertical-align: top;\n",
       "    }\n",
       "\n",
       "    .dataframe thead th {\n",
       "        text-align: right;\n",
       "    }\n",
       "</style>\n",
       "<table border=\"1\" class=\"dataframe\">\n",
       "  <thead>\n",
       "    <tr style=\"text-align: right;\">\n",
       "      <th></th>\n",
       "      <th>MSSubClass</th>\n",
       "      <th>YearBuilt</th>\n",
       "      <th>YrSold</th>\n",
       "      <th>var0</th>\n",
       "      <th>var1</th>\n",
       "      <th>var2</th>\n",
       "      <th>var3</th>\n",
       "      <th>y_hat</th>\n",
       "      <th>error_absoluto</th>\n",
       "      <th>error_cuadratico</th>\n",
       "    </tr>\n",
       "    <tr>\n",
       "      <th>over_under</th>\n",
       "      <th></th>\n",
       "      <th></th>\n",
       "      <th></th>\n",
       "      <th></th>\n",
       "      <th></th>\n",
       "      <th></th>\n",
       "      <th></th>\n",
       "      <th></th>\n",
       "      <th></th>\n",
       "      <th></th>\n",
       "    </tr>\n",
       "  </thead>\n",
       "  <tbody>\n",
       "    <tr>\n",
       "      <th>-1</th>\n",
       "      <td>0.620467</td>\n",
       "      <td>0.620467</td>\n",
       "      <td>0.620467</td>\n",
       "      <td>0.620467</td>\n",
       "      <td>0.620467</td>\n",
       "      <td>0.620467</td>\n",
       "      <td>0.620467</td>\n",
       "      <td>0.620467</td>\n",
       "      <td>0.620467</td>\n",
       "      <td>0.620467</td>\n",
       "    </tr>\n",
       "    <tr>\n",
       "      <th>1</th>\n",
       "      <td>0.379533</td>\n",
       "      <td>0.379533</td>\n",
       "      <td>0.379533</td>\n",
       "      <td>0.379533</td>\n",
       "      <td>0.379533</td>\n",
       "      <td>0.379533</td>\n",
       "      <td>0.379533</td>\n",
       "      <td>0.379533</td>\n",
       "      <td>0.379533</td>\n",
       "      <td>0.379533</td>\n",
       "    </tr>\n",
       "  </tbody>\n",
       "</table>\n",
       "</div>"
      ],
      "text/plain": [
       "            MSSubClass  YearBuilt    YrSold      var0      var1      var2  \\\n",
       "over_under                                                                  \n",
       "-1            0.620467   0.620467  0.620467  0.620467  0.620467  0.620467   \n",
       " 1            0.379533   0.379533  0.379533  0.379533  0.379533  0.379533   \n",
       "\n",
       "                var3     y_hat  error_absoluto  error_cuadratico  \n",
       "over_under                                                        \n",
       "-1          0.620467  0.620467        0.620467          0.620467  \n",
       " 1          0.379533  0.379533        0.379533          0.379533  "
      ]
     },
     "execution_count": 12,
     "metadata": {},
     "output_type": "execute_result"
    }
   ],
   "source": [
    "entrenamiento_x.groupby('over_under').count() / entrenamiento_x.shape[0]"
   ]
  },
  {
   "cell_type": "markdown",
   "metadata": {},
   "source": [
    "En la siguiente gráfica comparamos las predicciones y las observaciones reales.\n",
    "Es decir, si el modelo fuera bueno, veríamos como los puntos de esta gráfica, con coordenadas (prediccion, precio real), serían cercanas a la recta identidad $y=x$.\n",
    "\n",
    "En la figura, graficamos la recta $y=x$ con la línea azul."
   ]
  },
  {
   "cell_type": "code",
   "execution_count": 13,
   "metadata": {},
   "outputs": [
    {
     "data": {
      "text/plain": [
       "<Figure size 640x480 with 1 Axes>"
      ]
     },
     "metadata": {},
     "output_type": "display_data"
    }
   ],
   "source": [
    "# y ~ y_hat\n",
    "import matplotlib.pyplot as plt\n",
    "xid = np.linspace(0, 320000, 1000)\n",
    "plt.plot(y_hat, entrenamiento_y, 'k*')\n",
    "plt.plot(xid,xid)\n",
    "plt.show()"
   ]
  },
  {
   "cell_type": "code",
   "execution_count": 14,
   "metadata": {},
   "outputs": [
    {
     "data": {
      "text/plain": [
       "0.3045679591096989"
      ]
     },
     "execution_count": 14,
     "metadata": {},
     "output_type": "execute_result"
    }
   ],
   "source": [
    "r2_score(entrenamiento_y, y_hat) "
   ]
  },
  {
   "cell_type": "code",
   "execution_count": 15,
   "metadata": {},
   "outputs": [
    {
     "data": {
      "text/plain": [
       "4163552151.1263723"
      ]
     },
     "execution_count": 15,
     "metadata": {},
     "output_type": "execute_result"
    }
   ],
   "source": [
    "mean_squared_error(entrenamiento_y, y_hat)"
   ]
  },
  {
   "cell_type": "markdown",
   "metadata": {},
   "source": [
    "Ahora veamos que pasa con el conjunto de prueba"
   ]
  },
  {
   "cell_type": "code",
   "execution_count": 16,
   "metadata": {},
   "outputs": [
    {
     "name": "stdout",
     "output_type": "stream",
     "text": [
      "<type 'numpy.ndarray'>\n"
     ]
    },
    {
     "data": {
      "text/html": [
       "<div>\n",
       "<style scoped>\n",
       "    .dataframe tbody tr th:only-of-type {\n",
       "        vertical-align: middle;\n",
       "    }\n",
       "\n",
       "    .dataframe tbody tr th {\n",
       "        vertical-align: top;\n",
       "    }\n",
       "\n",
       "    .dataframe thead th {\n",
       "        text-align: right;\n",
       "    }\n",
       "</style>\n",
       "<table border=\"1\" class=\"dataframe\">\n",
       "  <thead>\n",
       "    <tr style=\"text-align: right;\">\n",
       "      <th></th>\n",
       "      <th>y_hat</th>\n",
       "      <th>error_absoluto</th>\n",
       "      <th>error_cuadratico</th>\n",
       "      <th>over_under</th>\n",
       "    </tr>\n",
       "  </thead>\n",
       "  <tbody>\n",
       "    <tr>\n",
       "      <th>count</th>\n",
       "      <td>219.000000</td>\n",
       "      <td>219.000000</td>\n",
       "      <td>2.190000e+02</td>\n",
       "      <td>219.000000</td>\n",
       "    </tr>\n",
       "    <tr>\n",
       "      <th>mean</th>\n",
       "      <td>180998.254345</td>\n",
       "      <td>50054.492570</td>\n",
       "      <td>5.669346e+09</td>\n",
       "      <td>-0.296804</td>\n",
       "    </tr>\n",
       "    <tr>\n",
       "      <th>std</th>\n",
       "      <td>38202.892936</td>\n",
       "      <td>56377.365628</td>\n",
       "      <td>2.291060e+10</td>\n",
       "      <td>0.957126</td>\n",
       "    </tr>\n",
       "    <tr>\n",
       "      <th>min</th>\n",
       "      <td>58944.576571</td>\n",
       "      <td>359.926200</td>\n",
       "      <td>1.295469e+05</td>\n",
       "      <td>-1.000000</td>\n",
       "    </tr>\n",
       "    <tr>\n",
       "      <th>25%</th>\n",
       "      <td>156853.846651</td>\n",
       "      <td>18978.692052</td>\n",
       "      <td>3.602642e+08</td>\n",
       "      <td>-1.000000</td>\n",
       "    </tr>\n",
       "    <tr>\n",
       "      <th>50%</th>\n",
       "      <td>178969.739856</td>\n",
       "      <td>37634.107025</td>\n",
       "      <td>1.416326e+09</td>\n",
       "      <td>-1.000000</td>\n",
       "    </tr>\n",
       "    <tr>\n",
       "      <th>75%</th>\n",
       "      <td>212691.585609</td>\n",
       "      <td>62490.061784</td>\n",
       "      <td>3.905008e+09</td>\n",
       "      <td>1.000000</td>\n",
       "    </tr>\n",
       "    <tr>\n",
       "      <th>max</th>\n",
       "      <td>269964.474784</td>\n",
       "      <td>535854.304709</td>\n",
       "      <td>2.871398e+11</td>\n",
       "      <td>1.000000</td>\n",
       "    </tr>\n",
       "  </tbody>\n",
       "</table>\n",
       "</div>"
      ],
      "text/plain": [
       "               y_hat  error_absoluto  error_cuadratico  over_under\n",
       "count     219.000000      219.000000      2.190000e+02  219.000000\n",
       "mean   180998.254345    50054.492570      5.669346e+09   -0.296804\n",
       "std     38202.892936    56377.365628      2.291060e+10    0.957126\n",
       "min     58944.576571      359.926200      1.295469e+05   -1.000000\n",
       "25%    156853.846651    18978.692052      3.602642e+08   -1.000000\n",
       "50%    178969.739856    37634.107025      1.416326e+09   -1.000000\n",
       "75%    212691.585609    62490.061784      3.905008e+09    1.000000\n",
       "max    269964.474784   535854.304709      2.871398e+11    1.000000"
      ]
     },
     "execution_count": 16,
     "metadata": {},
     "output_type": "execute_result"
    }
   ],
   "source": [
    "y_hat = modelo.predict(prueba_x) # estimacion o prediciónn\n",
    "print(type(y_hat))\n",
    "prueba_x['y_hat'] = y_hat # crear columna en dataframe de prediccion\n",
    "prueba_x['error_absoluto'] = np.abs(prueba_y - prueba_x['y_hat'])\n",
    "prueba_x['error_cuadratico'] = np.power(prueba_y - prueba_x['y_hat'], 2)\n",
    "prueba_x['over_under'] = (prueba_y - prueba_x['y_hat'])\n",
    "prueba_x['over_under'] = prueba_x['over_under'].apply(lambda x: 1 if x >= 0 else -1)\n",
    "prueba_x[['y_hat', 'error_absoluto','error_cuadratico', 'over_under']].describe()"
   ]
  },
  {
   "cell_type": "code",
   "execution_count": 17,
   "metadata": {},
   "outputs": [
    {
     "data": {
      "text/html": [
       "<div>\n",
       "<style scoped>\n",
       "    .dataframe tbody tr th:only-of-type {\n",
       "        vertical-align: middle;\n",
       "    }\n",
       "\n",
       "    .dataframe tbody tr th {\n",
       "        vertical-align: top;\n",
       "    }\n",
       "\n",
       "    .dataframe thead th {\n",
       "        text-align: right;\n",
       "    }\n",
       "</style>\n",
       "<table border=\"1\" class=\"dataframe\">\n",
       "  <thead>\n",
       "    <tr style=\"text-align: right;\">\n",
       "      <th></th>\n",
       "      <th>MSSubClass</th>\n",
       "      <th>YearBuilt</th>\n",
       "      <th>YrSold</th>\n",
       "      <th>var0</th>\n",
       "      <th>var1</th>\n",
       "      <th>var2</th>\n",
       "      <th>var3</th>\n",
       "      <th>y_hat</th>\n",
       "      <th>error_absoluto</th>\n",
       "      <th>error_cuadratico</th>\n",
       "    </tr>\n",
       "    <tr>\n",
       "      <th>over_under</th>\n",
       "      <th></th>\n",
       "      <th></th>\n",
       "      <th></th>\n",
       "      <th></th>\n",
       "      <th></th>\n",
       "      <th></th>\n",
       "      <th></th>\n",
       "      <th></th>\n",
       "      <th></th>\n",
       "      <th></th>\n",
       "    </tr>\n",
       "  </thead>\n",
       "  <tbody>\n",
       "    <tr>\n",
       "      <th>-1</th>\n",
       "      <td>0.648402</td>\n",
       "      <td>0.648402</td>\n",
       "      <td>0.648402</td>\n",
       "      <td>0.648402</td>\n",
       "      <td>0.648402</td>\n",
       "      <td>0.648402</td>\n",
       "      <td>0.648402</td>\n",
       "      <td>0.648402</td>\n",
       "      <td>0.648402</td>\n",
       "      <td>0.648402</td>\n",
       "    </tr>\n",
       "    <tr>\n",
       "      <th>1</th>\n",
       "      <td>0.351598</td>\n",
       "      <td>0.351598</td>\n",
       "      <td>0.351598</td>\n",
       "      <td>0.351598</td>\n",
       "      <td>0.351598</td>\n",
       "      <td>0.351598</td>\n",
       "      <td>0.351598</td>\n",
       "      <td>0.351598</td>\n",
       "      <td>0.351598</td>\n",
       "      <td>0.351598</td>\n",
       "    </tr>\n",
       "  </tbody>\n",
       "</table>\n",
       "</div>"
      ],
      "text/plain": [
       "            MSSubClass  YearBuilt    YrSold      var0      var1      var2  \\\n",
       "over_under                                                                  \n",
       "-1            0.648402   0.648402  0.648402  0.648402  0.648402  0.648402   \n",
       " 1            0.351598   0.351598  0.351598  0.351598  0.351598  0.351598   \n",
       "\n",
       "                var3     y_hat  error_absoluto  error_cuadratico  \n",
       "over_under                                                        \n",
       "-1          0.648402  0.648402        0.648402          0.648402  \n",
       " 1          0.351598  0.351598        0.351598          0.351598  "
      ]
     },
     "execution_count": 17,
     "metadata": {},
     "output_type": "execute_result"
    }
   ],
   "source": [
    "prueba_x.groupby('over_under').count() / prueba_x.shape[0]"
   ]
  },
  {
   "cell_type": "code",
   "execution_count": null,
   "metadata": {},
   "outputs": [],
   "source": []
  },
  {
   "cell_type": "code",
   "execution_count": 18,
   "metadata": {},
   "outputs": [
    {
     "data": {
      "image/png": "[encoded data removed]",
      "text/plain": [
       "<Figure size 432x288 with 1 Axes>"
      ]
     },
     "metadata": {
      "needs_background": "light"
     },
     "output_type": "display_data"
    }
   ],
   "source": [
    "# y ~ y_hat\n",
    "import matplotlib.pyplot as plt\n",
    "xid = np.linspace(0, 320000, 1000)\n",
    "plt.plot(y_hat, prueba_y, 'k*')\n",
    "plt.plot(xid,xid)\n",
    "plt.show()"
   ]
  },
  {
   "cell_type": "code",
   "execution_count": 19,
   "metadata": {},
   "outputs": [
    {
     "data": {
      "text/plain": [
       "0.30168138372916575"
      ]
     },
     "execution_count": 19,
     "metadata": {},
     "output_type": "execute_result"
    }
   ],
   "source": [
    "r2_score(prueba_y, y_hat) "
   ]
  },
  {
   "cell_type": "markdown",
   "metadata": {},
   "source": [
    "Veamos que el error absoluto promedio en el conjunto de entrenamiento es menor que en el conjunto de prueba, lo cual era de esperar.\n",
    "Sin embargo, tanto esta métrica como la métrica $r^2$ entre los dos conjuntos es tan distante, lo cual habla de no haber sobreajustado."
   ]
  },
  {
   "cell_type": "markdown",
   "metadata": {},
   "source": [
    "# Ejercicio\n",
    "Un modelo como este, siempre puede reducir (o mantener igual) el valor de la funcion a optimizar en el conjunto de entrenamiento, en este caso el error cuadrático medio, agregando una variable más. Sin embargo, esto NO pasa para el conjunto de prueba.\n",
    "\n",
    "Trata de agregar una variable más al modelo para bajar el error del modelo en el conjunto de prueba.\n",
    "\n",
    "Tip, existe una variable para describir cuántos baños completos hay en la casa. Esta variable serviría para aproximar el precio de forma correcta?"
   ]
  },
  {
   "cell_type": "code",
   "execution_count": 20,
   "metadata": {},
   "outputs": [
    {
     "ename": "SyntaxError",
     "evalue": "invalid syntax (<ipython-input-20-591e6ff30f1c>, line 3)",
     "output_type": "error",
     "traceback": [
      "\u001b[0;36m  File \u001b[0;32m\"<ipython-input-20-591e6ff30f1c>\"\u001b[0;36m, line \u001b[0;32m3\u001b[0m\n\u001b[0;31m    extra_var = # agrega el nombre de la variable pertinente aquí\u001b[0m\n\u001b[0m                                                                 \n^\u001b[0m\n\u001b[0;31mSyntaxError\u001b[0m\u001b[0;31m:\u001b[0m invalid syntax\n"
     ]
    }
   ],
   "source": [
    "var_objetivo = 'SalePrice'\n",
    "variables = [\"MSSubClass\", \"LotShape\", \"YearBuilt\", \"YrSold\"]\n",
    "extra_var = # agrega el nombre de la variable pertinente aquí\n",
    "variables = variables + [extra_var]\n",
    "X = entrenamiento[variables]\n",
    "y = entrenamiento[var_objetivo]\n",
    "enc_lotshape = OneHotEncoder() #instanciamos el transformador\n",
    "enc_lotshape.fit(X['LotShape'].values.reshape(-1,1)) # y ajustamos los datos\n",
    "\n",
    "#\n",
    "# Escribe el código que creas pertinente para probar que esta variable \n",
    "# ayuda a entrenar un mejor modelo\n",
    "\n",
    "# 1. necesitas transformar la variable `LotShape`\n",
    "enc_lotshape = # ?\n",
    "\n",
    "# 2. instanciar dataframe con variables pertinentes \n",
    "transformed_df = #?\n",
    "# Recordar este código\n",
    "# pd.DataFrame(transformed, columns=['var{}'.format(i) for i in range(4)]) ?\n",
    "# X = X[[variable for variable in variables if variable != 'LotShape']]\n",
    "# X = pd.concat([X, transformed_df], axis=1)\n",
    "\n",
    "\n",
    "# 3. Separar el conjunto total en entrenamiento y prueba\n",
    "# Usa train_test_split\n",
    "\n",
    "\n",
    "# 4. Instanciar y entrenar modelo\n",
    "# Usar LinearRegression\n",
    "\n",
    "\n",
    "# 5. Hacer predicciones y evaluar\n",
    "# usa el metodo .predict y calcula metricas pertinentes como error absoluto\n",
    "# Recuerda hacerlo para ambos conjuntos"
   ]
  },
  {
   "cell_type": "code",
   "execution_count": null,
   "metadata": {},
   "outputs": [],
   "source": []
  },
  {
   "cell_type": "code",
   "execution_count": null,
   "metadata": {},
   "outputs": [],
   "source": []
  }
 ],
 "metadata": {
  "kernelspec": {
   "display_name": "env_p2pix2code",
   "language": "python",
   "name": "env_p2pix2code"
  },
  "language_info": {
   "codemirror_mode": {
    "name": "ipython",
    "version": 2
   },
   "file_extension": ".py",
   "mimetype": "text/x-python",
   "name": "python",
   "nbconvert_exporter": "python",
   "pygments_lexer": "ipython2",
   "version": "2.7.15"
  }
 },
 "nbformat": 4,
 "nbformat_minor": 2
}
